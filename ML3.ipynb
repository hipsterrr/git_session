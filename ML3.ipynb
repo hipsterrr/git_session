{
 "cells": [
  {
   "cell_type": "code",
   "execution_count": 1,
   "metadata": {
    "id": "2rmikGyl3lpK"
   },
   "outputs": [],
   "source": [
    "import numpy as np\n",
    "import matplotlib.pyplot as plt\n",
    "from sklearn.model_selection import train_test_split"
   ]
  },
  {
   "cell_type": "code",
   "execution_count": 3,
   "metadata": {
    "id": "VA1gg-eI3sKz"
   },
   "outputs": [],
   "source": [
    "# Generate random data for demonstration\n",
    "data = np.random.randn(1000) # Generate 1000 samples from a standard Normal\n"
   ]
  },
  {
   "cell_type": "code",
   "execution_count": 4,
   "metadata": {
    "id": "FAfR7cE_3sa7"
   },
   "outputs": [],
   "source": [
    "# Split the data into training, testing, and validation sets using random sampling\n",
    "train_data, test_data = train_test_split(data, test_size=0.2, random_state=42)\n",
    "test_data, val_data = train_test_split(test_data, test_size=0.5, random_state=42)"
   ]
  },
  {
   "cell_type": "code",
   "execution_count": 5,
   "metadata": {
    "id": "txjkByjU3sj6"
   },
   "outputs": [
    {
     "data": {
      "text/plain": [
       "(array([0.00439171, 0.        , 0.00439171, 0.01317513, 0.03074198,\n",
       "        0.01317513, 0.06587567, 0.06587567, 0.12296791, 0.18445187,\n",
       "        0.24593582, 0.25911095, 0.26789438, 0.39964571, 0.44356282,\n",
       "        0.28985293, 0.4347794 , 0.38207886, 0.34694518, 0.24593582,\n",
       "        0.14931818, 0.14492647, 0.08783422, 0.05709224, 0.07465909,\n",
       "        0.02635027, 0.01756684, 0.00439171, 0.00439171, 0.00439171]),\n",
       " array([-3.46988847, -3.24218679, -3.01448511, -2.78678343, -2.55908175,\n",
       "        -2.33138006, -2.10367838, -1.8759767 , -1.64827502, -1.42057334,\n",
       "        -1.19287166, -0.96516997, -0.73746829, -0.50976661, -0.28206493,\n",
       "        -0.05436325,  0.17333843,  0.40104011,  0.6287418 ,  0.85644348,\n",
       "         1.08414516,  1.31184684,  1.53954852,  1.7672502 ,  1.99495188,\n",
       "         2.22265357,  2.45035525,  2.67805693,  2.90575861,  3.13346029,\n",
       "         3.36116197]),\n",
       " <BarContainer object of 30 artists>)"
      ]
     },
     "execution_count": 5,
     "metadata": {},
     "output_type": "execute_result"
    },
    {
     "data": {
      "image/png": "[encoded data removed]",
      "text/plain": [
       "<Figure size 640x480 with 1 Axes>"
      ]
     },
     "metadata": {},
     "output_type": "display_data"
    }
   ],
   "source": [
    "# Plot Normal distribution for the Duration parameter\n",
    "plt.hist(data, bins=30, density=True, alpha=0.6, color='g', label='Normal Distribution')"
   ]
  },
  {
   "cell_type": "code",
   "execution_count": 6,
   "metadata": {
    "id": "xRMtW0Sj3smZ"
   },
   "outputs": [
    {
     "data": {
      "text/plain": [
       "<matplotlib.lines.Line2D at 0x1dd4cc46d10>"
      ]
     },
     "execution_count": 6,
     "metadata": {},
     "output_type": "execute_result"
    },
    {
     "data": {
      "image/png": "[encoded data removed]",
      "text/plain": [
       "<Figure size 640x480 with 1 Axes>"
      ]
     },
     "metadata": {},
     "output_type": "display_data"
    }
   ],
   "source": [
    "# Plot a vertical line at mean=0\n",
    "plt.axvline(x=0, color='k', linestyle='--', label='Mean')"
   ]
  },
  {
   "cell_type": "code",
   "execution_count": null,
   "metadata": {
    "id": "Q-fSOdci3so5"
   },
   "outputs": [],
   "source": [
    "plt.title('Normal Distribution of Duration')\n",
    "plt.xlabel('Duration')\n",
    "plt.ylabel('Probability Density')\n",
    "plt.legend()\n",
    "plt.show()"
   ]
  },
  {
   "cell_type": "code",
   "execution_count": null,
   "metadata": {
    "id": "hQHDhSJ-3srS"
   },
   "outputs": [],
   "source": [
    "# Print the sizes of training, testing, and validation sets\n",
    "print(\"Training set size:\", len(train_data))\n",
    "print(\"Testing set size:\", len(test_data))\n",
    "print(\"Validation set size:\", len(val_data))"
   ]
  },
  {
   "cell_type": "code",
   "execution_count": null,
   "metadata": {
    "id": "qz7OWrA23str"
   },
   "outputs": [],
   "source": []
  },
  {
   "cell_type": "code",
   "execution_count": null,
   "metadata": {
    "id": "CnJpU0r43svj"
   },
   "outputs": [],
   "source": []
  },
  {
   "cell_type": "code",
   "execution_count": null,
   "metadata": {
    "id": "cDg2NU603szJ"
   },
   "outputs": [],
   "source": []
  }
 ],
 "metadata": {
  "colab": {
   "authorship_tag": "ABX9TyOHMWBtQkKvrNkY6l/Dkt53",
   "provenance": []
  },
  "kernelspec": {
   "display_name": "Python 3 (ipykernel)",
   "language": "python",
   "name": "python3"
  },
  "language_info": {
   "codemirror_mode": {
    "name": "ipython",
    "version": 3
   },
   "file_extension": ".py",
   "mimetype": "text/x-python",
   "name": "python",
   "nbconvert_exporter": "python",
   "pygments_lexer": "ipython3",
   "version": "3.10.9"
  }
 },
 "nbformat": 4,
 "nbformat_minor": 1
}
